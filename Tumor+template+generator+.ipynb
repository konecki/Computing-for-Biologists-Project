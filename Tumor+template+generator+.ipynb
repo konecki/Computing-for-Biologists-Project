{
 "cells": [
  {
   "cell_type": "markdown",
   "metadata": {},
   "source": [
    "input: Drug, Duration, start/end date, and number of treatments \n",
    "output: excel sheet that can be used for data entry "
   ]
  },
  {
   "cell_type": "code",
   "execution_count": null,
   "metadata": {
    "collapsed": false
   },
   "outputs": [],
   "source": [
    "import calendar\n",
    "import datetime\n",
    "import os\n",
    "import itertools\n",
    "import collections\n",
    "import matplotlib.pyplot as plt\n",
    "import numpy as np \n",
    "import statistics\n",
    "\n",
    "# requires updating openpyxl to version 2.4.5 (pip install openpyxl --upgrade)\n",
    "import openpyxl"
   ]
  },
  {
   "cell_type": "code",
   "execution_count": null,
   "metadata": {
    "collapsed": true
   },
   "outputs": [],
   "source": [
    "#creating named tuples that have properties useful for treatment type and mouse\n",
    "Treatment = collections.namedtuple('Treatment', ('Name', 'StartDate', 'Duration', 'Mice'))\n",
    "Mouse = collections.namedtuple('Mouse', ('Weight', 'TumorSize'))"
   ]
  },
  {
   "cell_type": "code",
   "execution_count": null,
   "metadata": {
    "collapsed": true
   },
   "outputs": [],
   "source": [
    "def master_function_generate_excel(input_excel, output_file, overwrite=False):\n",
    "    #returns calendar of tasks and data sheet as an excel file \n",
    "    \n",
    "    #create named tuples for each treatment and each drug (easier to organize)\n",
    "    Treat = collections.namedtuple('Treat', ('Drugs'))\n",
    "    Drug = collections.namedtuple('Drug', ('Name', 'Schedule'))\n",
    "    \n",
    "    #gather the raw data from the input excel file \n",
    "    raw_treatments, start_date, duration = gather_input(input_excel)\n",
    "    date_list = make_date_list(start_date, duration)\n",
    "    \n",
    "    #create the data in an organized form in treatment list of treat tuples made of drug tuples\n",
    "    treatments = [\n",
    "        Treat([\n",
    "            Drug(drug_name, drug_process(drug_name, start_date, duration))\n",
    "            for drug_name in treatment\n",
    "        ])\n",
    "        for treatment in raw_treatments\n",
    "    ] \n",
    "\n",
    "    #call output_schedule which will make the excel document with the calendar and data tables\n",
    "    output_schedule(output_file, treatments, date_list, overwrite=overwrite)"
   ]
  },
  {
   "cell_type": "code",
   "execution_count": null,
   "metadata": {
    "collapsed": false
   },
   "outputs": [],
   "source": [
    "def gather_input(input_excel):\n",
    "    #read in excel file and get really basic information\n",
    "    wb = openpyxl.load_workbook(input_excel)\n",
    "    sheet = wb.get_sheet_by_name('input')\n",
    "    duration = sheet['A2'].value \n",
    "    start_date = sheet['B2'].value #stored as datetime!\n",
    "    \n",
    "    #treatments these mice will go through\n",
    "    treatments = [\n",
    "        [\n",
    "            cell.value\n",
    "            for cell in row[-2:]\n",
    "            if cell.value != None\n",
    "        ]\n",
    "        for row in list(sheet.rows)[1:]\n",
    "    ]\n",
    "    \n",
    "    return treatments, start_date, duration"
   ]
  },
  {
   "cell_type": "code",
   "execution_count": null,
   "metadata": {
    "collapsed": false
   },
   "outputs": [],
   "source": [
    "def make_date_list(start_date, duration):\n",
    "    #make a list of all the days in the experiment\n",
    "  \n",
    "    base = start_date\n",
    "    date_list = [base + datetime.timedelta(days=x) for x in range(0, duration)]\n",
    "    return(date_list)\n"
   ]
  },
  {
   "cell_type": "code",
   "execution_count": null,
   "metadata": {
    "collapsed": false
   },
   "outputs": [],
   "source": [
    "def drug_process(drug, start_date, duration):\n",
    "#which days in the calendar each drug needs to be given\n",
    "\n",
    "    if drug is None:\n",
    "        return None\n",
    "    \n",
    "    drug = drug.strip().lower()\n",
    "    \n",
    "    #these are the drugs\n",
    "    if drug == 'olaprib':\n",
    "        return [start_date + datetime.timedelta(days=x) for x in range(0, duration, 2)]\n",
    "    if drug == 'cabozantib':\n",
    "        return [start_date + datetime.timedelta(days=x) for x in range(0, duration, 3)]\n",
    "    if drug == 'bmk177':\n",
    "        return [start_date + datetime.timedelta(days=x) for x in range(0, duration, 7)]\n",
    "    if drug == 'gsk135':\n",
    "        return [start_date + datetime.timedelta(days=x) for x in range(0, duration, 7)]\n",
    "    if drug == 'parpnib':\n",
    "        return [start_date + datetime.timedelta(days=x) for x in range(0, duration, 2)]"
   ]
  },
  {
   "cell_type": "code",
   "execution_count": null,
   "metadata": {
    "collapsed": false
   },
   "outputs": [],
   "source": [
    "def output_schedule(output_filename, treatments, date_list, overwrite=False):\n",
    "    #creates the output excel sheet with calendar and data table \n",
    "    \n",
    "    #makes sure you aren't overwriting an existing file, or it deletes it \n",
    "    if not(overwrite) and os.path.isfile(output_filename):\n",
    "        print('ERROR: file already exists. Please specify new filename.')\n",
    "        return\n",
    "    \n",
    "    if overwrite and os.path.isfile(output_filename):\n",
    "        os.remove(output_filename)\n",
    "    \n",
    "    wb = openpyxl.Workbook()\n",
    "    \n",
    "    tasks_sheet = wb.active\n",
    "    \n",
    "    #begining the task sheet \n",
    "    tasks_sheet.title = 'Tasks'\n",
    "    \n",
    "    date_to_row_lookup = {}\n",
    "    \n",
    "    #adding the dates\n",
    "    for index, date in zip(range(len(date_list)), date_list):\n",
    "        row = index + 2\n",
    "        \n",
    "        tasks_sheet.cell(\n",
    "            column=1,\n",
    "            row=row,\n",
    "            value=date.date()\n",
    "        )\n",
    "        \n",
    "        date_to_row_lookup[date] = row\n",
    "    \n",
    "    #generating the title of each treatment \n",
    "    for index, treatment in zip(range(len(treatments)), treatments):\n",
    "        column = index + 2\n",
    "        \n",
    "        tasks_sheet.cell(\n",
    "            row=1, \n",
    "            column=column,\n",
    "            value=' + '.join([drug.Name for drug in treatment.Drugs])\n",
    "        )\n",
    "        \n",
    "        #adds which drugs to treat when\n",
    "        for drug in treatment.Drugs:\n",
    "            for day in drug.Schedule:\n",
    "                cell = tasks_sheet.cell(\n",
    "                    column=column,\n",
    "                    row=date_to_row_lookup[day]\n",
    "                )\n",
    "                \n",
    "                if cell.value == None:\n",
    "                    cell.value = 'Treat with {}'.format(drug.Name)\n",
    "                else:\n",
    "                    temp = cell.value \n",
    "                    cell.value = '{} and {}'.format(temp, drug.Name)\n",
    "        \n",
    "    #Adding titles and a space for each mouse measurement \n",
    "    for treatment in treatments:\n",
    "        sheet_name = 'Treatment-{}'.format('+'.join([drug.Name for drug in treatment.Drugs]))\n",
    "        ws = wb.create_sheet(sheet_name)\n",
    "        \n",
    "        ws['A1'] = 'Date'\n",
    "        ws['B1'] = 'Mouse'\n",
    "        ws['C1'] = 'Mouse Weight'\n",
    "        ws['D1'] = 'Tumor Weight'\n",
    "        \n",
    "        row = 2\n",
    "        for date in date_list: \n",
    "            for mouse in range(3): #3 mice / treatment \n",
    "                ws.cell(\n",
    "                    column=1,\n",
    "                    row=row,\n",
    "                    value=date.date()\n",
    "                )\n",
    "                ws.cell(row=row, column=2, value='Mouse {}'.format(mouse+1))\n",
    "                row = row + 1 \n",
    "            \n",
    "      \n",
    "    wb.save(output_filename)\n",
    "    wb.close()"
   ]
  },
  {
   "cell_type": "code",
   "execution_count": null,
   "metadata": {
    "collapsed": true
   },
   "outputs": [],
   "source": [
    "def get_treatments(input_excel):\n",
    "    #get all the treatments from the input data, rather than input parameters\n",
    "    \n",
    "    wb = openpyxl.load_workbook(input_excel)\n",
    "    \n",
    "    sheets = wb.get_sheet_names()\n",
    "    \n",
    "    #all the things that start with Treatment- are treatments\n",
    "    is_treatment = lambda s: s.startswith('Treatment-')\n",
    "    \n",
    "    treatment_sheets = filter(is_treatment, sheets)\n",
    "    \n",
    "    #specific named tuple for each data row with the important properties \n",
    "    raw_data_row = collections.namedtuple('RawDataRow', ('Date', 'Mouse', 'Weight', 'Tumor'))\n",
    "    \n",
    "    treatments = []\n",
    "    \n",
    "    #for each treatment gather the raw data \n",
    "    for sheet in treatment_sheets:\n",
    "        ws = wb.get_sheet_by_name(sheet)\n",
    "        name = sheet.replace('Treatment-', '', 1)\n",
    "        \n",
    "        #raw data only goes up to row 4\n",
    "        raw_data = [\n",
    "            raw_data_row(*[r.value for r in row[:4]])\n",
    "            for row in list(ws.rows)[1:]\n",
    "        ]\n",
    "        \n",
    "        #list of dates\n",
    "        dates = [row.Date for row in raw_data]\n",
    "        start_date = min(dates) #start date is the smallest \n",
    "        end_date = max(dates) #end date is the biggest\n",
    "        duration = (end_date - start_date).days\n",
    "        \n",
    "        #gets the name of the mouse for sorting and grouping\n",
    "        mouse_name_selector = lambda data: data.Mouse\n",
    "        \n",
    "        #sorting the data so can use groupby\n",
    "        sorted_data = sorted(raw_data, key=mouse_name_selector)\n",
    "        mice_group = itertools.groupby(sorted_data, mouse_name_selector)\n",
    "        \n",
    "        mice = []\n",
    "        \n",
    "        #sort by date, and get weight and tumor size and add to mouse object\n",
    "        for key, group in mice_group:\n",
    "            date_selector = lambda d: d.Date\n",
    "            \n",
    "            by_date = list(sorted(group, key=date_selector))\n",
    "            \n",
    "            weights = [data.Weight for data in by_date]\n",
    "            tumors = [data.Tumor for data in by_date]\n",
    "            \n",
    "            mice.append(Mouse(weights, tumors))\n",
    "            \n",
    "        treatments.append(Treatment(name, start_date, duration, mice))\n",
    "        \n",
    "    return(treatments)"
   ]
  },
  {
   "cell_type": "code",
   "execution_count": null,
   "metadata": {
    "collapsed": true
   },
   "outputs": [],
   "source": [
    "def create_graphs_from_data(excel_doc):\n",
    "    #generates the graphs from the given data\n",
    "    treatments = get_treatments(excel_doc)\n",
    "    \n",
    "    generate_figures(treatments)"
   ]
  },
  {
   "cell_type": "code",
   "execution_count": null,
   "metadata": {
    "collapsed": false
   },
   "outputs": [],
   "source": [
    "def generate_figures(treatments):\n",
    "    #generates the figures from the given data\n",
    "    \n",
    "    gen_fig_mouse_weight_over_time(treatments)\n",
    "    gen_fig_tumorSize_over_time(treatments)"
   ]
  },
  {
   "cell_type": "code",
   "execution_count": null,
   "metadata": {
    "collapsed": false
   },
   "outputs": [],
   "source": [
    "def gen_fig_mouse_weight_over_time(treatments):\n",
    "    #makes the figure for mouse weight over time\n",
    "    \n",
    "    plt.close()\n",
    "    lines = []\n",
    "    \n",
    "    #each treatment is printed in a different color on the same plot\n",
    "    for treatment in treatments:\n",
    "        weights = [mouse.Weight for mouse in treatment.Mice]\n",
    "        weights_per_time = zip(*weights)\n",
    "        average_weights = list(map(statistics.mean, weights_per_time))\n",
    "        line = plt.plot(range(len(average_weights)), average_weights, label=treatment.Name)\n",
    "        \n",
    "        lines.extend(line)\n",
    "        \n",
    "    plt.legend(handles=lines)\n",
    "    \n",
    "    ax = plt.subplot(111)\n",
    "    ax.spines[\"top\"].set_visible(False)\n",
    "    ax.spines[\"bottom\"].set_visible(False)\n",
    "    ax.spines[\"right\"].set_visible(False)\n",
    "    ax.spines[\"left\"].set_visible(False) \n",
    "    ax.get_xaxis().tick_bottom()\n",
    "    ax.set_xlabel('Days after first treatment')\n",
    "    ax.set_ylabel('Mouse weight in grams')\n",
    "    ax.get_yaxis().tick_left()\n",
    "    \n",
    "    plt.savefig('weight_overTime.png')\n",
    "    plt.show()\n",
    "    plt.close()"
   ]
  },
  {
   "cell_type": "code",
   "execution_count": null,
   "metadata": {
    "collapsed": false
   },
   "outputs": [],
   "source": [
    "def gen_fig_tumorSize_over_time(treatments):\n",
    "    #makes the figure for the tumor size over time\n",
    "    \n",
    "    plt.close()\n",
    "    lines = []\n",
    "    \n",
    "    for treatment in treatments:\n",
    "        tumors = [mouse.TumorSize for mouse in treatment.Mice]\n",
    "        tumor_per_time = zip(*tumors)\n",
    "        average_tumor = list(map(statistics.mean, tumor_per_time))\n",
    "        line = plt.plot(range(len(average_tumor)), average_tumor, label=treatment.Name)\n",
    "        \n",
    "        lines.extend(line)\n",
    "        \n",
    "    plt.legend(handles=lines)\n",
    "    \n",
    "   \n",
    "    ax = plt.subplot(111)\n",
    "    ax.spines[\"top\"].set_visible(False)\n",
    "    ax.spines[\"bottom\"].set_visible(False)\n",
    "    ax.spines[\"right\"].set_visible(False)\n",
    "    ax.spines[\"left\"].set_visible(False) \n",
    "    ax.get_xaxis().tick_bottom()\n",
    "    ax.set_xlabel('Days after first treatment')\n",
    "    ax.set_ylabel('Tumor weight in grams')\n",
    "    ax.get_yaxis().tick_left()\n",
    "    \n",
    "    plt.savefig('Tumor_overTime.png')\n",
    "    plt.show()\n",
    "    plt.close()"
   ]
  },
  {
   "cell_type": "code",
   "execution_count": null,
   "metadata": {
    "collapsed": true
   },
   "outputs": [],
   "source": [
    "#example with test data \n",
    "master_function_generate_excel('input_example.xlsx', 'output.xlsx', overwrite=True)"
   ]
  },
  {
   "cell_type": "code",
   "execution_count": null,
   "metadata": {
    "collapsed": false
   },
   "outputs": [],
   "source": [
    "#example with test data\n",
    "create_graphs_from_data('completed_output_example.xlsx')"
   ]
  },
  {
   "cell_type": "code",
   "execution_count": null,
   "metadata": {
    "collapsed": true
   },
   "outputs": [],
   "source": []
  }
 ],
 "metadata": {
  "anaconda-cloud": {},
  "kernelspec": {
   "display_name": "Python [default]",
   "language": "python",
   "name": "python3"
  },
  "language_info": {
   "codemirror_mode": {
    "name": "ipython",
    "version": 3
   },
   "file_extension": ".py",
   "mimetype": "text/x-python",
   "name": "python",
   "nbconvert_exporter": "python",
   "pygments_lexer": "ipython3",
   "version": "3.5.2"
  }
 },
 "nbformat": 4,
 "nbformat_minor": 1
}
